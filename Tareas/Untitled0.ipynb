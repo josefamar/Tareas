{
  "nbformat": 4,
  "nbformat_minor": 0,
  "metadata": {
    "colab": {
      "provenance": []
    },
    "kernelspec": {
      "name": "python3",
      "display_name": "Python 3"
    },
    "language_info": {
      "name": "python"
    }
  },
  "cells": [
    {
      "cell_type": "code",
      "execution_count": null,
      "metadata": {
        "id": "jEXC_nh2ZZsC"
      },
      "outputs": [],
      "source": [
        "# LOOPS"
      ]
    },
    {
      "cell_type": "code",
      "source": [
        "# for\n",
        "# while\n",
        "\n",
        "lista = [1, 2, 3, 4, 5, 6, 7, 8, 9, 10]\n",
        "\n",
        "for i in lista:\n",
        "  print(i)"
      ],
      "metadata": {
        "colab": {
          "base_uri": "https://localhost:8080/"
        },
        "id": "VhivMrHeZm3E",
        "outputId": "ea92981a-9eca-4509-d11f-32bff38bc972"
      },
      "execution_count": null,
      "outputs": [
        {
          "output_type": "stream",
          "name": "stdout",
          "text": [
            "1\n",
            "2\n",
            "3\n",
            "4\n",
            "5\n",
            "6\n",
            "7\n",
            "8\n",
            "9\n",
            "10\n"
          ]
        }
      ]
    },
    {
      "cell_type": "code",
      "source": [
        "x = 0\n",
        "\n",
        "while (x<5):\n",
        "  x = x + 1\n",
        "  print(\"Hola\")"
      ],
      "metadata": {
        "colab": {
          "base_uri": "https://localhost:8080/"
        },
        "id": "ZISAMAfxbmFj",
        "outputId": "4646d6b7-6e08-4dd3-cdf7-860216168dc8"
      },
      "execution_count": null,
      "outputs": [
        {
          "output_type": "stream",
          "name": "stdout",
          "text": [
            "Hola\n",
            "Hola\n",
            "Hola\n",
            "Hola\n",
            "Hola\n"
          ]
        }
      ]
    },
    {
      "cell_type": "markdown",
      "source": [
        "Problema 1.\n",
        "Hacer un programa que imprima los números del -100 al 200."
      ],
      "metadata": {
        "id": "RSmVNZ4MZmab"
      }
    },
    {
      "cell_type": "code",
      "source": [
        "numero_inicial = -100\n",
        "numero_final = 201\n",
        "lista = range(numero_inicial, numero_final)\n",
        "for i in lista:\n",
        "  print(i)"
      ],
      "metadata": {
        "colab": {
          "base_uri": "https://localhost:8080/"
        },
        "id": "Ke6TAy8qdV4N",
        "outputId": "9b88acbb-3d4f-4f6a-e422-8985c3b3664f"
      },
      "execution_count": null,
      "outputs": [
        {
          "output_type": "stream",
          "name": "stdout",
          "text": [
            "-100\n",
            "-99\n",
            "-98\n",
            "-97\n",
            "-96\n",
            "-95\n",
            "-94\n",
            "-93\n",
            "-92\n",
            "-91\n",
            "-90\n",
            "-89\n",
            "-88\n",
            "-87\n",
            "-86\n",
            "-85\n",
            "-84\n",
            "-83\n",
            "-82\n",
            "-81\n",
            "-80\n",
            "-79\n",
            "-78\n",
            "-77\n",
            "-76\n",
            "-75\n",
            "-74\n",
            "-73\n",
            "-72\n",
            "-71\n",
            "-70\n",
            "-69\n",
            "-68\n",
            "-67\n",
            "-66\n",
            "-65\n",
            "-64\n",
            "-63\n",
            "-62\n",
            "-61\n",
            "-60\n",
            "-59\n",
            "-58\n",
            "-57\n",
            "-56\n",
            "-55\n",
            "-54\n",
            "-53\n",
            "-52\n",
            "-51\n",
            "-50\n",
            "-49\n",
            "-48\n",
            "-47\n",
            "-46\n",
            "-45\n",
            "-44\n",
            "-43\n",
            "-42\n",
            "-41\n",
            "-40\n",
            "-39\n",
            "-38\n",
            "-37\n",
            "-36\n",
            "-35\n",
            "-34\n",
            "-33\n",
            "-32\n",
            "-31\n",
            "-30\n",
            "-29\n",
            "-28\n",
            "-27\n",
            "-26\n",
            "-25\n",
            "-24\n",
            "-23\n",
            "-22\n",
            "-21\n",
            "-20\n",
            "-19\n",
            "-18\n",
            "-17\n",
            "-16\n",
            "-15\n",
            "-14\n",
            "-13\n",
            "-12\n",
            "-11\n",
            "-10\n",
            "-9\n",
            "-8\n",
            "-7\n",
            "-6\n",
            "-5\n",
            "-4\n",
            "-3\n",
            "-2\n",
            "-1\n",
            "0\n",
            "1\n",
            "2\n",
            "3\n",
            "4\n",
            "5\n",
            "6\n",
            "7\n",
            "8\n",
            "9\n",
            "10\n",
            "11\n",
            "12\n",
            "13\n",
            "14\n",
            "15\n",
            "16\n",
            "17\n",
            "18\n",
            "19\n",
            "20\n",
            "21\n",
            "22\n",
            "23\n",
            "24\n",
            "25\n",
            "26\n",
            "27\n",
            "28\n",
            "29\n",
            "30\n",
            "31\n",
            "32\n",
            "33\n",
            "34\n",
            "35\n",
            "36\n",
            "37\n",
            "38\n",
            "39\n",
            "40\n",
            "41\n",
            "42\n",
            "43\n",
            "44\n",
            "45\n",
            "46\n",
            "47\n",
            "48\n",
            "49\n",
            "50\n",
            "51\n",
            "52\n",
            "53\n",
            "54\n",
            "55\n",
            "56\n",
            "57\n",
            "58\n",
            "59\n",
            "60\n",
            "61\n",
            "62\n",
            "63\n",
            "64\n",
            "65\n",
            "66\n",
            "67\n",
            "68\n",
            "69\n",
            "70\n",
            "71\n",
            "72\n",
            "73\n",
            "74\n",
            "75\n",
            "76\n",
            "77\n",
            "78\n",
            "79\n",
            "80\n",
            "81\n",
            "82\n",
            "83\n",
            "84\n",
            "85\n",
            "86\n",
            "87\n",
            "88\n",
            "89\n",
            "90\n",
            "91\n",
            "92\n",
            "93\n",
            "94\n",
            "95\n",
            "96\n",
            "97\n",
            "98\n",
            "99\n",
            "100\n",
            "101\n",
            "102\n",
            "103\n",
            "104\n",
            "105\n",
            "106\n",
            "107\n",
            "108\n",
            "109\n",
            "110\n",
            "111\n",
            "112\n",
            "113\n",
            "114\n",
            "115\n",
            "116\n",
            "117\n",
            "118\n",
            "119\n",
            "120\n",
            "121\n",
            "122\n",
            "123\n",
            "124\n",
            "125\n",
            "126\n",
            "127\n",
            "128\n",
            "129\n",
            "130\n",
            "131\n",
            "132\n",
            "133\n",
            "134\n",
            "135\n",
            "136\n",
            "137\n",
            "138\n",
            "139\n",
            "140\n",
            "141\n",
            "142\n",
            "143\n",
            "144\n",
            "145\n",
            "146\n",
            "147\n",
            "148\n",
            "149\n",
            "150\n",
            "151\n",
            "152\n",
            "153\n",
            "154\n",
            "155\n",
            "156\n",
            "157\n",
            "158\n",
            "159\n",
            "160\n",
            "161\n",
            "162\n",
            "163\n",
            "164\n",
            "165\n",
            "166\n",
            "167\n",
            "168\n",
            "169\n",
            "170\n",
            "171\n",
            "172\n",
            "173\n",
            "174\n",
            "175\n",
            "176\n",
            "177\n",
            "178\n",
            "179\n",
            "180\n",
            "181\n",
            "182\n",
            "183\n",
            "184\n",
            "185\n",
            "186\n",
            "187\n",
            "188\n",
            "189\n",
            "190\n",
            "191\n",
            "192\n",
            "193\n",
            "194\n",
            "195\n",
            "196\n",
            "197\n",
            "198\n",
            "199\n",
            "200\n"
          ]
        }
      ]
    },
    {
      "cell_type": "markdown",
      "source": [
        "Problema 2.\n",
        "Hacer un programa que imprima los números del -100 al 200 que sean divisibles entre 6 (con resto 0)\n",
        "\n",
        "Esto signifca que si el número es 6, 12, 18, etc. entonces debe imprimirlo ya que la división de esos números por 6 da como resto 0, exacto.\n",
        "\n",
        "6 / 6 = 1, resto 0\n",
        "12 / 6 = 2, resto 0\n",
        "Distinto de:\n",
        "\n",
        "7 / 6 = 1, resto 1"
      ],
      "metadata": {
        "id": "IvprYtsufL7T"
      }
    },
    {
      "cell_type": "code",
      "source": [
        "numero_inicial = -100\n",
        "numero_final = 201\n",
        "lista = range(numero_inicial, numero_final)\n",
        "for i in lista:\n",
        "  if i % 6 == 0:\n",
        "    print(i)\n"
      ],
      "metadata": {
        "colab": {
          "base_uri": "https://localhost:8080/"
        },
        "id": "Dd0M7KMGfqGY",
        "outputId": "24ac86ab-b7b5-4ba0-9436-c1da8c423b7d"
      },
      "execution_count": null,
      "outputs": [
        {
          "output_type": "stream",
          "name": "stdout",
          "text": [
            "-96\n",
            "-90\n",
            "-84\n",
            "-78\n",
            "-72\n",
            "-66\n",
            "-60\n",
            "-54\n",
            "-48\n",
            "-42\n",
            "-36\n",
            "-30\n",
            "-24\n",
            "-18\n",
            "-12\n",
            "-6\n",
            "0\n",
            "6\n",
            "12\n",
            "18\n",
            "24\n",
            "30\n",
            "36\n",
            "42\n",
            "48\n",
            "54\n",
            "60\n",
            "66\n",
            "72\n",
            "78\n",
            "84\n",
            "90\n",
            "96\n",
            "102\n",
            "108\n",
            "114\n",
            "120\n",
            "126\n",
            "132\n",
            "138\n",
            "144\n",
            "150\n",
            "156\n",
            "162\n",
            "168\n",
            "174\n",
            "180\n",
            "186\n",
            "192\n",
            "198\n"
          ]
        }
      ]
    },
    {
      "cell_type": "markdown",
      "source": [
        "Problema 3:\n",
        "Pseudocódigo, Sumador y comparador de dos números Realiza el algoritmo para un sumador de dos números. Si el resultado es menor a 200 se mostrará el mensaje \"menor a 200\", si el resultado es mayor a 200, pero menor a 250 mostrará el mensaje \"mayor a 200\", pero si es mayor a 250 mostrará el mensaje \"mayor a 250\"."
      ],
      "metadata": {
        "id": "0ongRAkchhCQ"
      }
    },
    {
      "cell_type": "code",
      "source": [
        "numero1 = float(input(\"Ingrese el primer número: \"))\n",
        "numero2 = float(input(\"Ingrese el segundo número: \"))\n",
        "suma = numero1 + numero2\n",
        "if suma < 200:\n",
        "  print(\"Menor a 200\")\n",
        "elif suma >= 200 and suma < 250:\n",
        "  print(\"Mayor a 200\")\n",
        "else:\n",
        "    print(\"mayor a 250\")"
      ],
      "metadata": {
        "id": "1UTGCIvLSJfk",
        "colab": {
          "base_uri": "https://localhost:8080/"
        },
        "outputId": "7c6f1a87-dda4-446d-fed6-d01240d9a394"
      },
      "execution_count": 1,
      "outputs": [
        {
          "output_type": "stream",
          "name": "stdout",
          "text": [
            "Ingrese el primer número: 3\n",
            "Ingrese el segundo número: 186\n",
            "Menor a 200\n"
          ]
        }
      ]
    },
    {
      "cell_type": "markdown",
      "source": [
        "Problema 4. Pseudocódigo, Calculador de perfil\n",
        "Generar un programa que combine variables, tipos de datos y una condicional en Python (hacer una función que evalúe si el usuario es mayor de edad y si le gusta la música urbana, que envíe diferentes textos según la respuesta del usuario)"
      ],
      "metadata": {
        "id": "Lj_jGRGdSQ_0"
      }
    },
    {
      "cell_type": "code",
      "source": [
        "def evaluar_usuario(edad, gusta_musica_urbana):\n",
        "    if edad > 18 and gusta_musica_urbana:\n",
        "        return \"Eres mayor de edad y te gusta la música urbana\"\n",
        "    else:\n",
        "        return \"No eres mayor de edad o no te gusta la música urbana\"\n",
        "\n",
        "while True:\n",
        "    try:\n",
        "        edad = int(input(\"¿Cuál es tu edad? \"))\n",
        "        break\n",
        "    except ValueError:\n",
        "        print(\"Por favor, ingresa un número válido para la edad.\")\n",
        "\n",
        "respuesta = input(\"¿Te gusta la música urbana? (sí/no): \").strip().lower()\n",
        "\n",
        "\n",
        "gusta_musica_urbana = respuesta == \"sí\" or respuesta == \"si\"\n",
        "\n",
        "\n",
        "resultado = evaluar_usuario(edad, gusta_musica_urbana)\n",
        "print(resultado)"
      ],
      "metadata": {
        "colab": {
          "base_uri": "https://localhost:8080/"
        },
        "id": "7XNowSVhHaM4",
        "outputId": "2d9ac2b6-7057-4ffa-a485-03c8a123a406"
      },
      "execution_count": 3,
      "outputs": [
        {
          "output_type": "stream",
          "name": "stdout",
          "text": [
            "¿Cuál es tu edad? 22\n",
            "¿Te gusta la música urbana? (sí/no): si\n",
            "Eres mayor de edad y te gusta la música urbana\n"
          ]
        }
      ]
    }
  ]
}